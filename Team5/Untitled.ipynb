{
 "cells": [
  {
   "cell_type": "code",
   "execution_count": 20,
   "metadata": {},
   "outputs": [
    {
     "data": {
      "image/png": "[encoded data removed]",
      "text/plain": [
       "<matplotlib.figure.Figure at 0x1169fbcc0>"
      ]
     },
     "metadata": {},
     "output_type": "display_data"
    }
   ],
   "source": [
    "import numpy as np\n",
    "import matplotlib.pyplot as plt\n",
    "\n",
    "shape = (20, 20)\n",
    "\n",
    "# Spin configuration\n",
    "spins = np.random.choice([-1, 1], size=shape)\n",
    "\n",
    "# Magnetic moment\n",
    "moment = 1\n",
    "\n",
    "# External magnetic field\n",
    "field = np.full(shape, 0)\n",
    "\n",
    "# Temperature (in units of energy)\n",
    "temperature = .1\n",
    "\n",
    "# Interaction (ferromagnetic if positive, antiferromagnetic if negative)\n",
    "interaction = 1\n",
    "\n",
    "def get_probability(energy1, energy2, temperature):\n",
    "  return np.exp((energy1 - energy2) / temperature)\n",
    "\n",
    "def get_energy(spins):\n",
    "  return -np.sum(\n",
    "    interaction * spins * np.roll(spins, 1, axis=0) +\n",
    "    interaction * spins * np.roll(spins, -1, axis=0) +\n",
    "    interaction * spins * np.roll(spins, 1, axis=1) +\n",
    "    interaction * spins * np.roll(spins, -1, axis=1)\n",
    "  )/2 - moment * np.sum(field * spins)\n",
    "\n",
    "def update(spins, temperature):\n",
    "  spins_new = np.copy(spins)\n",
    "  i = np.random.randint(spins.shape[0])\n",
    "  j = np.random.randint(spins.shape[1])\n",
    "  spins_new[i, j] *= -1\n",
    "\n",
    "  current_energy = get_energy(spins)\n",
    "  new_energy = get_energy(spins_new)\n",
    "  if get_probability(current_energy, new_energy, temperature) > np.random.random():\n",
    "    return spins_new\n",
    "  else:\n",
    "    return spins\n",
    "\n",
    "plt.ion()\n",
    "plt.show()\n",
    "\n",
    "im = plt.imshow(spins, cmap='gray', vmin=-1, vmax=1, interpolation='none')\n",
    "t = 0\n",
    "while t<1000:\n",
    "  if t % 10 == 0:\n",
    "    im.set_data(spins)\n",
    "    plt.draw()\n",
    "  spins = update(spins, temperature)\n",
    "  plt.pause(.001)\n",
    "  t += 1"
   ]
  },
  {
   "cell_type": "code",
   "execution_count": null,
   "metadata": {},
   "outputs": [],
   "source": []
  }
 ],
 "metadata": {
  "kernelspec": {
   "display_name": "Python [conda root]",
   "language": "python",
   "name": "conda-root-py"
  },
  "language_info": {
   "codemirror_mode": {
    "name": "ipython",
    "version": 3
   },
   "file_extension": ".py",
   "mimetype": "text/x-python",
   "name": "python",
   "nbconvert_exporter": "python",
   "pygments_lexer": "ipython3",
   "version": "3.6.4"
  }
 },
 "nbformat": 4,
 "nbformat_minor": 2
}
